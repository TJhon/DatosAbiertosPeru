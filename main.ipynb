{
 "cells": [
  {
   "cell_type": "code",
   "execution_count": 3,
   "metadata": {},
   "outputs": [
    {
     "data": {
      "text/plain": [
       "[{'id': '1cb938b1-f9ec-4a36-88e7-4a7333e7f134',\n",
       "  'name': 'vigilancia-y-seguimiento-ambiental-en-la-calidad-del-aire-organismo-de-evaluaciÃ³n-y',\n",
       "  'title': 'Vigilancia y Seguimiento ambiental en la calidad del aire - Organismo de EvaluaciÃ³n y FiscalizaciÃ³n Ambiental - OEFA',\n",
       "  'author': 'Organismo de EvaluaciÃ³n y FiscalizaciÃ³n Ambiental â€“ OEFA',\n",
       "  'author_email': 'emanco@oefa.gob.pe',\n",
       "  'maintainer': 'Plataforma Nacional de Datos Abiertos ',\n",
       "  'maintainer_email': 'scastro@pcm.gob.pe',\n",
       "  'license_title': 'http://opendefinition.org/licenses/odc-by/',\n",
       "  'notes': '<p paraeid=\"{cdb9b63d-3461-4ea2-a0fa-ad5a6356910e}{170}\" paraid=\"1096977230\">Este <em>dataset </em>incluye datos de las evaluaciones ambientales de seguimiento (EAS) sobre la calidad del aire capturados por 34 estaciones de monitoreo en tiempo real en diversas Ã¡reas de PerÃº.&nbsp;&nbsp;</p>\\n\\n<p paraeid=\"{cdb9b63d-3461-4ea2-a0fa-ad5a6356910e}{186}\" paraid=\"1919936125\">El registro contiene informaciÃ³n sobre la ubicaciÃ³n de las estaciones, la fecha y hora de las mediciones, y parÃ¡metros meteorolÃ³gicos y de calidad del aire.&nbsp;</p>\\n',\n",
       "  'url': 'https://expresateperu.datosabiertos.gob.pe/dataset/vigilancia-y-seguimiento-ambiental-en-la-calidad-del-aire-organismo-de-evaluaci%C3%B3n-y',\n",
       "  'state': 'Active',\n",
       "  'private': True,\n",
       "  'revision_timestamp': 'Lun, 08/05/2024 - 12:47',\n",
       "  'metadata_created': 'Mar, 04/30/2024 - 05:10',\n",
       "  'metadata_modified': 'Lun, 08/05/2024 - 12:47',\n",
       "  'creator_user_id': 'b9a338b9-4d89-482a-a9e0-85b6acab2535',\n",
       "  'type': 'Dataset',\n",
       "  'resources': [{'id': '61ecaa36-6319-4e75-8a8c-bcf13343e5a9',\n",
       "    'revision_id': '',\n",
       "    'url': 'https://expresateperu.datosabiertos.gob.pe/sites/default/files/1a_Vigilancia%20y%20Seguimiento%20ambiental%20en%20la%20calidad%20del%20aire.csv',\n",
       "    'description': '<p>Este conjunto de datos recopila informaciÃ³n sobre las Evaluaciones Ambientales de Seguimiento (EAS), las cuales son capturadas, sistematizadas, validadas y visualizadas por la DirecciÃ³n de EvaluaciÃ³n Ambiental (DEAM). Actualmente los datos provienen de 34 estaciones de monitoreo de calidad del aire en tiempo real, estratÃ©gicamente ubicadas, representando una valiosa fuente para el seguimiento y la evaluaciÃ³n de la calidad del aire en diversas Ã¡reas geogrÃ¡ficas del PerÃº. Esto permite la identificaciÃ³n de tendencias y la evaluaciÃ³n del cumplimiento de los estÃ¡ndares ambientales.</p>\\n\\n<p>&nbsp;</p>\\n\\n<p>Cada registro en el conjunto de datos representa un monitoreo continuo de cada estaciÃ³n de calidad del aire e incluye diversos atributos como el nombre de la estaciÃ³n, la fecha y hora de la mediciÃ³n, informaciÃ³n de parÃ¡metros meteorolÃ³gicos (presiÃ³n baromÃ©trica, precipitaciÃ³n, temperatura, humedad relativa, velocidad y direcciÃ³n del viento, radiaciÃ³n solar), material particulado y gases.</p>\\n\\n<p>&nbsp;</p>\\n\\n<p>Este dataset estÃ¡ caracterizado por:</p>\\n\\n<ul>\\n\\t<li>Datos de ubicaciÃ³n geogrÃ¡fica: Este, Norte, Altitud, Zona, Datum Departamento, Provincia, Distrito, Ubigeo.</li>\\n\\t<li>Datos de la evaluaciÃ³n ambiental: Identificador del informe, Procedencia de la muestra, Nombre del punto.</li>\\n\\t<li>Datos de los parÃ¡metros evaluados: ParÃ¡metro, Fecha, Valor, Periodo.</li>\\n</ul>\\n',\n",
       "    'format': 'csv',\n",
       "    'state': 'Active',\n",
       "    'revision_timestamp': 'Lun, 08/05/2024 - 12:47',\n",
       "    'name': '[Dataset-Oefa]-Vigilancia y Seguimiento ambiental en la calidad del aire - [Organismo de EvaluaciÃ³n y FiscalizaciÃ³n Ambiental - OEFA]',\n",
       "    'mimetype': 'text/csv',\n",
       "    'size': '1.23 GB',\n",
       "    'created': 'Mar, 04/30/2024 - 05:18',\n",
       "    'resource_group_id': 'fa7537d5-3c60-4ebc-a963-9c7fca839550',\n",
       "    'last_modified': 'Date changed  Lun, 08/05/2024 - 12:47'},\n",
       "   {'id': 'cda6e809-36a3-44a2-ae92-c475589ecf97',\n",
       "    'revision_id': '',\n",
       "    'url': 'https://expresateperu.datosabiertos.gob.pe/sites/default/files/1c_Formato_DiccionarioDatos_Vigilancia%20y%20Seguimiento%20ambiental%20en%20la%20calidad%20del%20aire.xlsx',\n",
       "    'description': '<p>Este conjunto de datos recopila informaciÃ³n sobre las Evaluaciones Ambientales de Seguimiento (EAS), las cuales son capturadas, sistematizadas, validadas y visualizadas por la DirecciÃ³n de EvaluaciÃ³n Ambiental (DEAM). Actualmente los datos provienen de 34 estaciones de monitoreo de calidad del aire en tiempo real, estratÃ©gicamente ubicadas, representando una valiosa fuente para el seguimiento y la evaluaciÃ³n de la calidad del aire en diversas Ã¡reas geogrÃ¡ficas del PerÃº. Esto permite la identificaciÃ³n de tendencias y la evaluaciÃ³n del cumplimiento de los estÃ¡ndares ambientales.</p>\\n\\n<p>&nbsp;</p>\\n\\n<p>Cada registro en el conjunto de datos representa un monitoreo continuo de cada estaciÃ³n de calidad del aire e incluye diversos atributos como el nombre de la estaciÃ³n, la fecha y hora de la mediciÃ³n, informaciÃ³n de parÃ¡metros meteorolÃ³gicos (presiÃ³n baromÃ©trica, precipitaciÃ³n, temperatura, humedad relativa, velocidad y direcciÃ³n del viento, radiaciÃ³n solar), material particulado y gases.</p>\\n\\n<p>&nbsp;</p>\\n\\n<p>Este dataset estÃ¡ caracterizado por:</p>\\n\\n<ul>\\n\\t<li>Datos de ubicaciÃ³n geogrÃ¡fica: Este, Norte, Altitud, Zona, Datum Departamento, Provincia, Distrito, Ubigeo.</li>\\n\\t<li>Datos de la evaluaciÃ³n ambiental: Identificador del informe, Procedencia de la muestra, Nombre del punto.</li>\\n\\t<li>Datos de los parÃ¡metros evaluados: ParÃ¡metro, Fecha, Valor, Periodo.</li>\\n</ul>\\n',\n",
       "    'format': '.xlsx',\n",
       "    'state': 'Active',\n",
       "    'revision_timestamp': 'Lun, 08/05/2024 - 12:47',\n",
       "    'name': '[DiccionarioDeDatos-Oefa]-Vigilancia y Seguimiento ambiental en la calidad del aire - [Organismo de EvaluaciÃ³n y FiscalizaciÃ³n Ambiental - OEFA]',\n",
       "    'mimetype': 'application/vnd.openxmlformats-officedocument.spreadsheetml.sheet',\n",
       "    'size': '53.24 KB',\n",
       "    'created': 'Mar, 04/30/2024 - 06:22',\n",
       "    'resource_group_id': 'fa7537d5-3c60-4ebc-a963-9c7fca839550',\n",
       "    'last_modified': 'Date changed  Lun, 08/05/2024 - 12:47'},\n",
       "   {'id': '34e8c580-dc55-46ea-98cd-7744a5fa1d34',\n",
       "    'revision_id': '',\n",
       "    'url': 'https://expresateperu.datosabiertos.gob.pe/sites/default/files/1b_Formato_Metadatos_Vigilancia%20y%20Seguimiento%20ambiental%20en%20la%20calidad%20del%20aire.docx',\n",
       "    'description': '<p>Este conjunto de datos recopila informaciÃ³n sobre las Evaluaciones Ambientales de Seguimiento (EAS), las cuales son capturadas, sistematizadas, validadas y visualizadas por la DirecciÃ³n de EvaluaciÃ³n Ambiental (DEAM). Actualmente los datos provienen de 34 estaciones de monitoreo de calidad del aire en tiempo real, estratÃ©gicamente ubicadas, representando una valiosa fuente para el seguimiento y la evaluaciÃ³n de la calidad del aire en diversas Ã¡reas geogrÃ¡ficas del PerÃº. Esto permite la identificaciÃ³n de tendencias y la evaluaciÃ³n del cumplimiento de los estÃ¡ndares ambientales.</p>\\n\\n<p>&nbsp;</p>\\n\\n<p>Cada registro en el conjunto de datos representa un monitoreo continuo de cada estaciÃ³n de calidad del aire e incluye diversos atributos como el nombre de la estaciÃ³n, la fecha y hora de la mediciÃ³n, informaciÃ³n de parÃ¡metros meteorolÃ³gicos (presiÃ³n baromÃ©trica, precipitaciÃ³n, temperatura, humedad relativa, velocidad y direcciÃ³n del viento, radiaciÃ³n solar), material particulado y gases.</p>\\n\\n<p>&nbsp;</p>\\n\\n<p>Este dataset estÃ¡ caracterizado por:</p>\\n\\n<ul>\\n\\t<li>Datos de ubicaciÃ³n geogrÃ¡fica: Este, Norte, Altitud, Zona, Datum Departamento, Provincia, Distrito, Ubigeo.</li>\\n\\t<li>Datos de la evaluaciÃ³n ambiental: Identificador del informe, Procedencia de la muestra, Nombre del punto.</li>\\n\\t<li>Datos de los parÃ¡metros evaluados: ParÃ¡metro, Fecha, Valor, Periodo.</li>\\n</ul>\\n',\n",
       "    'format': 'docx',\n",
       "    'state': 'Active',\n",
       "    'revision_timestamp': 'Lun, 08/05/2024 - 12:47',\n",
       "    'name': '[Metadatos-Oefa]-Vigilancia y Seguimiento ambiental en la calidad del aire - [Organismo de EvaluaciÃ³n y FiscalizaciÃ³n Ambiental - OEFA]',\n",
       "    'mimetype': 'application/vnd.openxmlformats-officedocument.wordprocessingml.document',\n",
       "    'size': '15.65 KB',\n",
       "    'created': 'Mar, 04/30/2024 - 06:30',\n",
       "    'resource_group_id': 'fa7537d5-3c60-4ebc-a963-9c7fca839550',\n",
       "    'last_modified': 'Date changed  Lun, 08/05/2024 - 12:47'}],\n",
       "  'tags': [{'id': '9259a0f5-160f-43e9-b32c-d9afcb3524ba',\n",
       "    'vocabulary_id': '2',\n",
       "    'name': 'Calidad de aire'},\n",
       "   {'id': '0e6c4456-49f6-48a5-bc34-fefff09396e1',\n",
       "    'vocabulary_id': '2',\n",
       "    'name': 'EvaluaciÃ³n Ambiental'},\n",
       "   {'id': '46019689-84bd-47fd-b750-b87aa51da71b',\n",
       "    'vocabulary_id': '2',\n",
       "    'name': 'Seguimiento'}],\n",
       "  'groups': [{'description': '',\n",
       "    'id': 'fa7537d5-3c60-4ebc-a963-9c7fca839550',\n",
       "    'image_display_url': 'https://expresateperu.datosabiertos.gob.pe/sites/default/files/group.png',\n",
       "    'title': 'Organismo de EvaluaciÃ³n y FiscalizaciÃ³n Ambiental - OEFA',\n",
       "    'name': 'group/organismo-de-evaluaciÃ³n-y-fiscalizaciÃ³n-ambiental-oefa'}]}]"
      ]
     },
     "execution_count": 3,
     "metadata": {},
     "output_type": "execute_result"
    }
   ],
   "source": [
    "import json\n",
    "\n",
    "with open(\"./data/sample.json\", 'r') as sample:\n",
    "    data = json.load(sample)\n",
    "data['result']\n",
    "\n",
    "# relevantes: title, author, notes: descriptiongeneral\n",
    "# resources:[] id, url, name, description, format, size,\n",
    "# groups []: id, title"
   ]
  },
  {
   "cell_type": "code",
   "execution_count": 1,
   "metadata": {},
   "outputs": [
    {
     "ename": "MissingSchema",
     "evalue": "Invalid URL './data/sample.json': No scheme supplied. Perhaps you meant https://./data/sample.json?",
     "output_type": "error",
     "traceback": [
      "\u001b[1;31m---------------------------------------------------------------------------\u001b[0m",
      "\u001b[1;31mMissingSchema\u001b[0m                             Traceback (most recent call last)",
      "Cell \u001b[1;32mIn[1], line 2\u001b[0m\n\u001b[0;32m      1\u001b[0m \u001b[38;5;28;01mimport\u001b[39;00m \u001b[38;5;21;01mrequests\u001b[39;00m \u001b[38;5;28;01mas\u001b[39;00m \u001b[38;5;21;01mr\u001b[39;00m\n\u001b[1;32m----> 2\u001b[0m \u001b[43mr\u001b[49m\u001b[38;5;241;43m.\u001b[39;49m\u001b[43mget\u001b[49m\u001b[43m(\u001b[49m\u001b[38;5;124;43m\"\u001b[39;49m\u001b[38;5;124;43m./data/sample.json\u001b[39;49m\u001b[38;5;124;43m\"\u001b[39;49m\u001b[43m)\u001b[49m\n",
      "File \u001b[1;32mc:\\Users\\Jhon\\AppData\\Local\\Programs\\Python\\Python310\\lib\\site-packages\\requests\\api.py:73\u001b[0m, in \u001b[0;36mget\u001b[1;34m(url, params, **kwargs)\u001b[0m\n\u001b[0;32m     62\u001b[0m \u001b[38;5;28;01mdef\u001b[39;00m \u001b[38;5;21mget\u001b[39m(url, params\u001b[38;5;241m=\u001b[39m\u001b[38;5;28;01mNone\u001b[39;00m, \u001b[38;5;241m*\u001b[39m\u001b[38;5;241m*\u001b[39mkwargs):\n\u001b[0;32m     63\u001b[0m \u001b[38;5;250m    \u001b[39m\u001b[38;5;124mr\u001b[39m\u001b[38;5;124;03m\"\"\"Sends a GET request.\u001b[39;00m\n\u001b[0;32m     64\u001b[0m \n\u001b[0;32m     65\u001b[0m \u001b[38;5;124;03m    :param url: URL for the new :class:`Request` object.\u001b[39;00m\n\u001b[1;32m   (...)\u001b[0m\n\u001b[0;32m     70\u001b[0m \u001b[38;5;124;03m    :rtype: requests.Response\u001b[39;00m\n\u001b[0;32m     71\u001b[0m \u001b[38;5;124;03m    \"\"\"\u001b[39;00m\n\u001b[1;32m---> 73\u001b[0m     \u001b[38;5;28;01mreturn\u001b[39;00m request(\u001b[38;5;124m\"\u001b[39m\u001b[38;5;124mget\u001b[39m\u001b[38;5;124m\"\u001b[39m, url, params\u001b[38;5;241m=\u001b[39mparams, \u001b[38;5;241m*\u001b[39m\u001b[38;5;241m*\u001b[39mkwargs)\n",
      "File \u001b[1;32mc:\\Users\\Jhon\\AppData\\Local\\Programs\\Python\\Python310\\lib\\site-packages\\requests\\api.py:59\u001b[0m, in \u001b[0;36mrequest\u001b[1;34m(method, url, **kwargs)\u001b[0m\n\u001b[0;32m     55\u001b[0m \u001b[38;5;66;03m# By using the 'with' statement we are sure the session is closed, thus we\u001b[39;00m\n\u001b[0;32m     56\u001b[0m \u001b[38;5;66;03m# avoid leaving sockets open which can trigger a ResourceWarning in some\u001b[39;00m\n\u001b[0;32m     57\u001b[0m \u001b[38;5;66;03m# cases, and look like a memory leak in others.\u001b[39;00m\n\u001b[0;32m     58\u001b[0m \u001b[38;5;28;01mwith\u001b[39;00m sessions\u001b[38;5;241m.\u001b[39mSession() \u001b[38;5;28;01mas\u001b[39;00m session:\n\u001b[1;32m---> 59\u001b[0m     \u001b[38;5;28;01mreturn\u001b[39;00m session\u001b[38;5;241m.\u001b[39mrequest(method\u001b[38;5;241m=\u001b[39mmethod, url\u001b[38;5;241m=\u001b[39murl, \u001b[38;5;241m*\u001b[39m\u001b[38;5;241m*\u001b[39mkwargs)\n",
      "File \u001b[1;32mc:\\Users\\Jhon\\AppData\\Local\\Programs\\Python\\Python310\\lib\\site-packages\\requests\\sessions.py:575\u001b[0m, in \u001b[0;36mSession.request\u001b[1;34m(self, method, url, params, data, headers, cookies, files, auth, timeout, allow_redirects, proxies, hooks, stream, verify, cert, json)\u001b[0m\n\u001b[0;32m    562\u001b[0m \u001b[38;5;66;03m# Create the Request.\u001b[39;00m\n\u001b[0;32m    563\u001b[0m req \u001b[38;5;241m=\u001b[39m Request(\n\u001b[0;32m    564\u001b[0m     method\u001b[38;5;241m=\u001b[39mmethod\u001b[38;5;241m.\u001b[39mupper(),\n\u001b[0;32m    565\u001b[0m     url\u001b[38;5;241m=\u001b[39murl,\n\u001b[1;32m   (...)\u001b[0m\n\u001b[0;32m    573\u001b[0m     hooks\u001b[38;5;241m=\u001b[39mhooks,\n\u001b[0;32m    574\u001b[0m )\n\u001b[1;32m--> 575\u001b[0m prep \u001b[38;5;241m=\u001b[39m \u001b[38;5;28;43mself\u001b[39;49m\u001b[38;5;241;43m.\u001b[39;49m\u001b[43mprepare_request\u001b[49m\u001b[43m(\u001b[49m\u001b[43mreq\u001b[49m\u001b[43m)\u001b[49m\n\u001b[0;32m    577\u001b[0m proxies \u001b[38;5;241m=\u001b[39m proxies \u001b[38;5;129;01mor\u001b[39;00m {}\n\u001b[0;32m    579\u001b[0m settings \u001b[38;5;241m=\u001b[39m \u001b[38;5;28mself\u001b[39m\u001b[38;5;241m.\u001b[39mmerge_environment_settings(\n\u001b[0;32m    580\u001b[0m     prep\u001b[38;5;241m.\u001b[39murl, proxies, stream, verify, cert\n\u001b[0;32m    581\u001b[0m )\n",
      "File \u001b[1;32mc:\\Users\\Jhon\\AppData\\Local\\Programs\\Python\\Python310\\lib\\site-packages\\requests\\sessions.py:486\u001b[0m, in \u001b[0;36mSession.prepare_request\u001b[1;34m(self, request)\u001b[0m\n\u001b[0;32m    483\u001b[0m     auth \u001b[38;5;241m=\u001b[39m get_netrc_auth(request\u001b[38;5;241m.\u001b[39murl)\n\u001b[0;32m    485\u001b[0m p \u001b[38;5;241m=\u001b[39m PreparedRequest()\n\u001b[1;32m--> 486\u001b[0m \u001b[43mp\u001b[49m\u001b[38;5;241;43m.\u001b[39;49m\u001b[43mprepare\u001b[49m\u001b[43m(\u001b[49m\n\u001b[0;32m    487\u001b[0m \u001b[43m    \u001b[49m\u001b[43mmethod\u001b[49m\u001b[38;5;241;43m=\u001b[39;49m\u001b[43mrequest\u001b[49m\u001b[38;5;241;43m.\u001b[39;49m\u001b[43mmethod\u001b[49m\u001b[38;5;241;43m.\u001b[39;49m\u001b[43mupper\u001b[49m\u001b[43m(\u001b[49m\u001b[43m)\u001b[49m\u001b[43m,\u001b[49m\n\u001b[0;32m    488\u001b[0m \u001b[43m    \u001b[49m\u001b[43murl\u001b[49m\u001b[38;5;241;43m=\u001b[39;49m\u001b[43mrequest\u001b[49m\u001b[38;5;241;43m.\u001b[39;49m\u001b[43murl\u001b[49m\u001b[43m,\u001b[49m\n\u001b[0;32m    489\u001b[0m \u001b[43m    \u001b[49m\u001b[43mfiles\u001b[49m\u001b[38;5;241;43m=\u001b[39;49m\u001b[43mrequest\u001b[49m\u001b[38;5;241;43m.\u001b[39;49m\u001b[43mfiles\u001b[49m\u001b[43m,\u001b[49m\n\u001b[0;32m    490\u001b[0m \u001b[43m    \u001b[49m\u001b[43mdata\u001b[49m\u001b[38;5;241;43m=\u001b[39;49m\u001b[43mrequest\u001b[49m\u001b[38;5;241;43m.\u001b[39;49m\u001b[43mdata\u001b[49m\u001b[43m,\u001b[49m\n\u001b[0;32m    491\u001b[0m \u001b[43m    \u001b[49m\u001b[43mjson\u001b[49m\u001b[38;5;241;43m=\u001b[39;49m\u001b[43mrequest\u001b[49m\u001b[38;5;241;43m.\u001b[39;49m\u001b[43mjson\u001b[49m\u001b[43m,\u001b[49m\n\u001b[0;32m    492\u001b[0m \u001b[43m    \u001b[49m\u001b[43mheaders\u001b[49m\u001b[38;5;241;43m=\u001b[39;49m\u001b[43mmerge_setting\u001b[49m\u001b[43m(\u001b[49m\n\u001b[0;32m    493\u001b[0m \u001b[43m        \u001b[49m\u001b[43mrequest\u001b[49m\u001b[38;5;241;43m.\u001b[39;49m\u001b[43mheaders\u001b[49m\u001b[43m,\u001b[49m\u001b[43m \u001b[49m\u001b[38;5;28;43mself\u001b[39;49m\u001b[38;5;241;43m.\u001b[39;49m\u001b[43mheaders\u001b[49m\u001b[43m,\u001b[49m\u001b[43m \u001b[49m\u001b[43mdict_class\u001b[49m\u001b[38;5;241;43m=\u001b[39;49m\u001b[43mCaseInsensitiveDict\u001b[49m\n\u001b[0;32m    494\u001b[0m \u001b[43m    \u001b[49m\u001b[43m)\u001b[49m\u001b[43m,\u001b[49m\n\u001b[0;32m    495\u001b[0m \u001b[43m    \u001b[49m\u001b[43mparams\u001b[49m\u001b[38;5;241;43m=\u001b[39;49m\u001b[43mmerge_setting\u001b[49m\u001b[43m(\u001b[49m\u001b[43mrequest\u001b[49m\u001b[38;5;241;43m.\u001b[39;49m\u001b[43mparams\u001b[49m\u001b[43m,\u001b[49m\u001b[43m \u001b[49m\u001b[38;5;28;43mself\u001b[39;49m\u001b[38;5;241;43m.\u001b[39;49m\u001b[43mparams\u001b[49m\u001b[43m)\u001b[49m\u001b[43m,\u001b[49m\n\u001b[0;32m    496\u001b[0m \u001b[43m    \u001b[49m\u001b[43mauth\u001b[49m\u001b[38;5;241;43m=\u001b[39;49m\u001b[43mmerge_setting\u001b[49m\u001b[43m(\u001b[49m\u001b[43mauth\u001b[49m\u001b[43m,\u001b[49m\u001b[43m \u001b[49m\u001b[38;5;28;43mself\u001b[39;49m\u001b[38;5;241;43m.\u001b[39;49m\u001b[43mauth\u001b[49m\u001b[43m)\u001b[49m\u001b[43m,\u001b[49m\n\u001b[0;32m    497\u001b[0m \u001b[43m    \u001b[49m\u001b[43mcookies\u001b[49m\u001b[38;5;241;43m=\u001b[39;49m\u001b[43mmerged_cookies\u001b[49m\u001b[43m,\u001b[49m\n\u001b[0;32m    498\u001b[0m \u001b[43m    \u001b[49m\u001b[43mhooks\u001b[49m\u001b[38;5;241;43m=\u001b[39;49m\u001b[43mmerge_hooks\u001b[49m\u001b[43m(\u001b[49m\u001b[43mrequest\u001b[49m\u001b[38;5;241;43m.\u001b[39;49m\u001b[43mhooks\u001b[49m\u001b[43m,\u001b[49m\u001b[43m \u001b[49m\u001b[38;5;28;43mself\u001b[39;49m\u001b[38;5;241;43m.\u001b[39;49m\u001b[43mhooks\u001b[49m\u001b[43m)\u001b[49m\u001b[43m,\u001b[49m\n\u001b[0;32m    499\u001b[0m \u001b[43m\u001b[49m\u001b[43m)\u001b[49m\n\u001b[0;32m    500\u001b[0m \u001b[38;5;28;01mreturn\u001b[39;00m p\n",
      "File \u001b[1;32mc:\\Users\\Jhon\\AppData\\Local\\Programs\\Python\\Python310\\lib\\site-packages\\requests\\models.py:368\u001b[0m, in \u001b[0;36mPreparedRequest.prepare\u001b[1;34m(self, method, url, headers, files, data, params, auth, cookies, hooks, json)\u001b[0m\n\u001b[0;32m    365\u001b[0m \u001b[38;5;250m\u001b[39m\u001b[38;5;124;03m\"\"\"Prepares the entire request with the given parameters.\"\"\"\u001b[39;00m\n\u001b[0;32m    367\u001b[0m \u001b[38;5;28mself\u001b[39m\u001b[38;5;241m.\u001b[39mprepare_method(method)\n\u001b[1;32m--> 368\u001b[0m \u001b[38;5;28;43mself\u001b[39;49m\u001b[38;5;241;43m.\u001b[39;49m\u001b[43mprepare_url\u001b[49m\u001b[43m(\u001b[49m\u001b[43murl\u001b[49m\u001b[43m,\u001b[49m\u001b[43m \u001b[49m\u001b[43mparams\u001b[49m\u001b[43m)\u001b[49m\n\u001b[0;32m    369\u001b[0m \u001b[38;5;28mself\u001b[39m\u001b[38;5;241m.\u001b[39mprepare_headers(headers)\n\u001b[0;32m    370\u001b[0m \u001b[38;5;28mself\u001b[39m\u001b[38;5;241m.\u001b[39mprepare_cookies(cookies)\n",
      "File \u001b[1;32mc:\\Users\\Jhon\\AppData\\Local\\Programs\\Python\\Python310\\lib\\site-packages\\requests\\models.py:439\u001b[0m, in \u001b[0;36mPreparedRequest.prepare_url\u001b[1;34m(self, url, params)\u001b[0m\n\u001b[0;32m    436\u001b[0m     \u001b[38;5;28;01mraise\u001b[39;00m InvalidURL(\u001b[38;5;241m*\u001b[39me\u001b[38;5;241m.\u001b[39margs)\n\u001b[0;32m    438\u001b[0m \u001b[38;5;28;01mif\u001b[39;00m \u001b[38;5;129;01mnot\u001b[39;00m scheme:\n\u001b[1;32m--> 439\u001b[0m     \u001b[38;5;28;01mraise\u001b[39;00m MissingSchema(\n\u001b[0;32m    440\u001b[0m         \u001b[38;5;124mf\u001b[39m\u001b[38;5;124m\"\u001b[39m\u001b[38;5;124mInvalid URL \u001b[39m\u001b[38;5;132;01m{\u001b[39;00murl\u001b[38;5;132;01m!r}\u001b[39;00m\u001b[38;5;124m: No scheme supplied. \u001b[39m\u001b[38;5;124m\"\u001b[39m\n\u001b[0;32m    441\u001b[0m         \u001b[38;5;124mf\u001b[39m\u001b[38;5;124m\"\u001b[39m\u001b[38;5;124mPerhaps you meant https://\u001b[39m\u001b[38;5;132;01m{\u001b[39;00murl\u001b[38;5;132;01m}\u001b[39;00m\u001b[38;5;124m?\u001b[39m\u001b[38;5;124m\"\u001b[39m\n\u001b[0;32m    442\u001b[0m     )\n\u001b[0;32m    444\u001b[0m \u001b[38;5;28;01mif\u001b[39;00m \u001b[38;5;129;01mnot\u001b[39;00m host:\n\u001b[0;32m    445\u001b[0m     \u001b[38;5;28;01mraise\u001b[39;00m InvalidURL(\u001b[38;5;124mf\u001b[39m\u001b[38;5;124m\"\u001b[39m\u001b[38;5;124mInvalid URL \u001b[39m\u001b[38;5;132;01m{\u001b[39;00murl\u001b[38;5;132;01m!r}\u001b[39;00m\u001b[38;5;124m: No host supplied\u001b[39m\u001b[38;5;124m\"\u001b[39m)\n",
      "\u001b[1;31mMissingSchema\u001b[0m: Invalid URL './data/sample.json': No scheme supplied. Perhaps you meant https://./data/sample.json?"
     ]
    }
   ],
   "source": [
    "import requests as r\n",
    "r.get(\"./data/sample.json\")"
   ]
  }
 ],
 "metadata": {
  "kernelspec": {
   "display_name": "Python 3",
   "language": "python",
   "name": "python3"
  },
  "language_info": {
   "codemirror_mode": {
    "name": "ipython",
    "version": 3
   },
   "file_extension": ".py",
   "mimetype": "text/x-python",
   "name": "python",
   "nbconvert_exporter": "python",
   "pygments_lexer": "ipython3",
   "version": "3.10.9"
  }
 },
 "nbformat": 4,
 "nbformat_minor": 2
}
